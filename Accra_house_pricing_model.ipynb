{
  "cells": [
    {
      "cell_type": "markdown",
      "metadata": {
        "id": "view-in-github",
        "colab_type": "text"
      },
      "source": [
        "<a href=\"https://colab.research.google.com/github/maxxies/accra-house-pricing-ml-model/blob/main/Accra_house_pricing_model.ipynb\" target=\"_parent\"><img src=\"https://colab.research.google.com/assets/colab-badge.svg\" alt=\"Open In Colab\"/></a>"
      ]
    },
    {
      "cell_type": "markdown",
      "metadata": {
        "id": "ZrQfyFkVetlB"
      },
      "source": [
        "## Importing libraries"
      ]
    },
    {
      "cell_type": "code",
      "execution_count": null,
      "metadata": {
        "id": "l57df_S8eL6O"
      },
      "outputs": [],
      "source": [
        "import pandas as pd\n",
        "import numpy as np\n",
        "import matplotlib.pyplot as plt\n",
        "from sklearn.impute import SimpleImputer\n",
        "from sklearn.preprocessing import StandardScaler\n",
        "from sklearn.model_selection import train_test_split, cross_val_score\n",
        "from sklearn.linear_model import LinearRegression\n",
        "from sklearn.tree import DecisionTreeRegressor\n",
        "from sklearn.ensemble import RandomForestRegressor\n",
        "from sklearn.ensemble import VotingRegressor\n",
        "from sklearn.model_selection import GridSearchCV\n",
        "from sklearn.model_selection import RandomizedSearchCV\n",
        "from sklearn.svm import SVR\n",
        "import sklearn.externals \n",
        "import warnings \n",
        "import pickle\n",
        "from sklearn.ensemble import ExtraTreesRegressor\n",
        "from sklearn.preprocessing import OrdinalEncoder\n",
        "from sklearn.preprocessing import OneHotEncoder\n",
        "from sklearn.compose import ColumnTransformer\n",
        "from sklearn.metrics import mean_squared_error\n",
        "from sklearn.metrics import mean_absolute_error\n",
        "from sklearn.metrics import mean_absolute_percentage_error\n",
        "from sklearn.metrics import r2_score\n",
        "from sklearn.pipeline import Pipeline\n",
        "import seaborn as sns"
      ]
    },
    {
      "cell_type": "markdown",
      "metadata": {
        "id": "gsHRySdtelam"
      },
      "source": [
        "## Loading dataset from local storage"
      ]
    },
    {
      "cell_type": "code",
      "execution_count": null,
      "metadata": {
        "colab": {
          "base_uri": "https://localhost:8080/",
          "height": 74,
          "resources": {
            "http://localhost:8080/nbextensions/google.colab/files.js": {
              "data": "Ly8gQ29weXJpZ2h0IDIwMTcgR29vZ2xlIExMQwovLwovLyBMaWNlbnNlZCB1bmRlciB0aGUgQXBhY2hlIExpY2Vuc2UsIFZlcnNpb24gMi4wICh0aGUgIkxpY2Vuc2UiKTsKLy8geW91IG1heSBub3QgdXNlIHRoaXMgZmlsZSBleGNlcHQgaW4gY29tcGxpYW5jZSB3aXRoIHRoZSBMaWNlbnNlLgovLyBZb3UgbWF5IG9idGFpbiBhIGNvcHkgb2YgdGhlIExpY2Vuc2UgYXQKLy8KLy8gICAgICBodHRwOi8vd3d3LmFwYWNoZS5vcmcvbGljZW5zZXMvTElDRU5TRS0yLjAKLy8KLy8gVW5sZXNzIHJlcXVpcmVkIGJ5IGFwcGxpY2FibGUgbGF3IG9yIGFncmVlZCB0byBpbiB3cml0aW5nLCBzb2Z0d2FyZQovLyBkaXN0cmlidXRlZCB1bmRlciB0aGUgTGljZW5zZSBpcyBkaXN0cmlidXRlZCBvbiBhbiAiQVMgSVMiIEJBU0lTLAovLyBXSVRIT1VUIFdBUlJBTlRJRVMgT1IgQ09ORElUSU9OUyBPRiBBTlkgS0lORCwgZWl0aGVyIGV4cHJlc3Mgb3IgaW1wbGllZC4KLy8gU2VlIHRoZSBMaWNlbnNlIGZvciB0aGUgc3BlY2lmaWMgbGFuZ3VhZ2UgZ292ZXJuaW5nIHBlcm1pc3Npb25zIGFuZAovLyBsaW1pdGF0aW9ucyB1bmRlciB0aGUgTGljZW5zZS4KCi8qKgogKiBAZmlsZW92ZXJ2aWV3IEhlbHBlcnMgZm9yIGdvb2dsZS5jb2xhYiBQeXRob24gbW9kdWxlLgogKi8KKGZ1bmN0aW9uKHNjb3BlKSB7CmZ1bmN0aW9uIHNwYW4odGV4dCwgc3R5bGVBdHRyaWJ1dGVzID0ge30pIHsKICBjb25zdCBlbGVtZW50ID0gZG9jdW1lbnQuY3JlYXRlRWxlbWVudCgnc3BhbicpOwogIGVsZW1lbnQudGV4dENvbnRlbnQgPSB0ZXh0OwogIGZvciAoY29uc3Qga2V5IG9mIE9iamVjdC5rZXlzKHN0eWxlQXR0cmlidXRlcykpIHsKICAgIGVsZW1lbnQuc3R5bGVba2V5XSA9IHN0eWxlQXR0cmlidXRlc1trZXldOwogIH0KICByZXR1cm4gZWxlbWVudDsKfQoKLy8gTWF4IG51bWJlciBvZiBieXRlcyB3aGljaCB3aWxsIGJlIHVwbG9hZGVkIGF0IGEgdGltZS4KY29uc3QgTUFYX1BBWUxPQURfU0laRSA9IDEwMCAqIDEwMjQ7CgpmdW5jdGlvbiBfdXBsb2FkRmlsZXMoaW5wdXRJZCwgb3V0cHV0SWQpIHsKICBjb25zdCBzdGVwcyA9IHVwbG9hZEZpbGVzU3RlcChpbnB1dElkLCBvdXRwdXRJZCk7CiAgY29uc3Qgb3V0cHV0RWxlbWVudCA9IGRvY3VtZW50LmdldEVsZW1lbnRCeUlkKG91dHB1dElkKTsKICAvLyBDYWNoZSBzdGVwcyBvbiB0aGUgb3V0cHV0RWxlbWVudCB0byBtYWtlIGl0IGF2YWlsYWJsZSBmb3IgdGhlIG5leHQgY2FsbAogIC8vIHRvIHVwbG9hZEZpbGVzQ29udGludWUgZnJvbSBQeXRob24uCiAgb3V0cHV0RWxlbWVudC5zdGVwcyA9IHN0ZXBzOwoKICByZXR1cm4gX3VwbG9hZEZpbGVzQ29udGludWUob3V0cHV0SWQpOwp9CgovLyBUaGlzIGlzIHJvdWdobHkgYW4gYXN5bmMgZ2VuZXJhdG9yIChub3Qgc3VwcG9ydGVkIGluIHRoZSBicm93c2VyIHlldCksCi8vIHdoZXJlIHRoZXJlIGFyZSBtdWx0aXBsZSBhc3luY2hyb25vdXMgc3RlcHMgYW5kIHRoZSBQeXRob24gc2lkZSBpcyBnb2luZwovLyB0byBwb2xsIGZvciBjb21wbGV0aW9uIG9mIGVhY2ggc3RlcC4KLy8gVGhpcyB1c2VzIGEgUHJvbWlzZSB0byBibG9jayB0aGUgcHl0aG9uIHNpZGUgb24gY29tcGxldGlvbiBvZiBlYWNoIHN0ZXAsCi8vIHRoZW4gcGFzc2VzIHRoZSByZXN1bHQgb2YgdGhlIHByZXZpb3VzIHN0ZXAgYXMgdGhlIGlucHV0IHRvIHRoZSBuZXh0IHN0ZXAuCmZ1bmN0aW9uIF91cGxvYWRGaWxlc0NvbnRpbnVlKG91dHB1dElkKSB7CiAgY29uc3Qgb3V0cHV0RWxlbWVudCA9IGRvY3VtZW50LmdldEVsZW1lbnRCeUlkKG91dHB1dElkKTsKICBjb25zdCBzdGVwcyA9IG91dHB1dEVsZW1lbnQuc3RlcHM7CgogIGNvbnN0IG5leHQgPSBzdGVwcy5uZXh0KG91dHB1dEVsZW1lbnQubGFzdFByb21pc2VWYWx1ZSk7CiAgcmV0dXJuIFByb21pc2UucmVzb2x2ZShuZXh0LnZhbHVlLnByb21pc2UpLnRoZW4oKHZhbHVlKSA9PiB7CiAgICAvLyBDYWNoZSB0aGUgbGFzdCBwcm9taXNlIHZhbHVlIHRvIG1ha2UgaXQgYXZhaWxhYmxlIHRvIHRoZSBuZXh0CiAgICAvLyBzdGVwIG9mIHRoZSBnZW5lcmF0b3IuCiAgICBvdXRwdXRFbGVtZW50Lmxhc3RQcm9taXNlVmFsdWUgPSB2YWx1ZTsKICAgIHJldHVybiBuZXh0LnZhbHVlLnJlc3BvbnNlOwogIH0pOwp9CgovKioKICogR2VuZXJhdG9yIGZ1bmN0aW9uIHdoaWNoIGlzIGNhbGxlZCBiZXR3ZWVuIGVhY2ggYXN5bmMgc3RlcCBvZiB0aGUgdXBsb2FkCiAqIHByb2Nlc3MuCiAqIEBwYXJhbSB7c3RyaW5nfSBpbnB1dElkIEVsZW1lbnQgSUQgb2YgdGhlIGlucHV0IGZpbGUgcGlja2VyIGVsZW1lbnQuCiAqIEBwYXJhbSB7c3RyaW5nfSBvdXRwdXRJZCBFbGVtZW50IElEIG9mIHRoZSBvdXRwdXQgZGlzcGxheS4KICogQHJldHVybiB7IUl0ZXJhYmxlPCFPYmplY3Q+fSBJdGVyYWJsZSBvZiBuZXh0IHN0ZXBzLgogKi8KZnVuY3Rpb24qIHVwbG9hZEZpbGVzU3RlcChpbnB1dElkLCBvdXRwdXRJZCkgewogIGNvbnN0IGlucHV0RWxlbWVudCA9IGRvY3VtZW50LmdldEVsZW1lbnRCeUlkKGlucHV0SWQpOwogIGlucHV0RWxlbWVudC5kaXNhYmxlZCA9IGZhbHNlOwoKICBjb25zdCBvdXRwdXRFbGVtZW50ID0gZG9jdW1lbnQuZ2V0RWxlbWVudEJ5SWQob3V0cHV0SWQpOwogIG91dHB1dEVsZW1lbnQuaW5uZXJIVE1MID0gJyc7CgogIGNvbnN0IHBpY2tlZFByb21pc2UgPSBuZXcgUHJvbWlzZSgocmVzb2x2ZSkgPT4gewogICAgaW5wdXRFbGVtZW50LmFkZEV2ZW50TGlzdGVuZXIoJ2NoYW5nZScsIChlKSA9PiB7CiAgICAgIHJlc29sdmUoZS50YXJnZXQuZmlsZXMpOwogICAgfSk7CiAgfSk7CgogIGNvbnN0IGNhbmNlbCA9IGRvY3VtZW50LmNyZWF0ZUVsZW1lbnQoJ2J1dHRvbicpOwogIGlucHV0RWxlbWVudC5wYXJlbnRFbGVtZW50LmFwcGVuZENoaWxkKGNhbmNlbCk7CiAgY2FuY2VsLnRleHRDb250ZW50ID0gJ0NhbmNlbCB1cGxvYWQnOwogIGNvbnN0IGNhbmNlbFByb21pc2UgPSBuZXcgUHJvbWlzZSgocmVzb2x2ZSkgPT4gewogICAgY2FuY2VsLm9uY2xpY2sgPSAoKSA9PiB7CiAgICAgIHJlc29sdmUobnVsbCk7CiAgICB9OwogIH0pOwoKICAvLyBXYWl0IGZvciB0aGUgdXNlciB0byBwaWNrIHRoZSBmaWxlcy4KICBjb25zdCBmaWxlcyA9IHlpZWxkIHsKICAgIHByb21pc2U6IFByb21pc2UucmFjZShbcGlja2VkUHJvbWlzZSwgY2FuY2VsUHJvbWlzZV0pLAogICAgcmVzcG9uc2U6IHsKICAgICAgYWN0aW9uOiAnc3RhcnRpbmcnLAogICAgfQogIH07CgogIGNhbmNlbC5yZW1vdmUoKTsKCiAgLy8gRGlzYWJsZSB0aGUgaW5wdXQgZWxlbWVudCBzaW5jZSBmdXJ0aGVyIHBpY2tzIGFyZSBub3QgYWxsb3dlZC4KICBpbnB1dEVsZW1lbnQuZGlzYWJsZWQgPSB0cnVlOwoKICBpZiAoIWZpbGVzKSB7CiAgICByZXR1cm4gewogICAgICByZXNwb25zZTogewogICAgICAgIGFjdGlvbjogJ2NvbXBsZXRlJywKICAgICAgfQogICAgfTsKICB9CgogIGZvciAoY29uc3QgZmlsZSBvZiBmaWxlcykgewogICAgY29uc3QgbGkgPSBkb2N1bWVudC5jcmVhdGVFbGVtZW50KCdsaScpOwogICAgbGkuYXBwZW5kKHNwYW4oZmlsZS5uYW1lLCB7Zm9udFdlaWdodDogJ2JvbGQnfSkpOwogICAgbGkuYXBwZW5kKHNwYW4oCiAgICAgICAgYCgke2ZpbGUudHlwZSB8fCAnbi9hJ30pIC0gJHtmaWxlLnNpemV9IGJ5dGVzLCBgICsKICAgICAgICBgbGFzdCBtb2RpZmllZDogJHsKICAgICAgICAgICAgZmlsZS5sYXN0TW9kaWZpZWREYXRlID8gZmlsZS5sYXN0TW9kaWZpZWREYXRlLnRvTG9jYWxlRGF0ZVN0cmluZygpIDoKICAgICAgICAgICAgICAgICAgICAgICAgICAgICAgICAgICAgJ24vYSd9IC0gYCkpOwogICAgY29uc3QgcGVyY2VudCA9IHNwYW4oJzAlIGRvbmUnKTsKICAgIGxpLmFwcGVuZENoaWxkKHBlcmNlbnQpOwoKICAgIG91dHB1dEVsZW1lbnQuYXBwZW5kQ2hpbGQobGkpOwoKICAgIGNvbnN0IGZpbGVEYXRhUHJvbWlzZSA9IG5ldyBQcm9taXNlKChyZXNvbHZlKSA9PiB7CiAgICAgIGNvbnN0IHJlYWRlciA9IG5ldyBGaWxlUmVhZGVyKCk7CiAgICAgIHJlYWRlci5vbmxvYWQgPSAoZSkgPT4gewogICAgICAgIHJlc29sdmUoZS50YXJnZXQucmVzdWx0KTsKICAgICAgfTsKICAgICAgcmVhZGVyLnJlYWRBc0FycmF5QnVmZmVyKGZpbGUpOwogICAgfSk7CiAgICAvLyBXYWl0IGZvciB0aGUgZGF0YSB0byBiZSByZWFkeS4KICAgIGxldCBmaWxlRGF0YSA9IHlpZWxkIHsKICAgICAgcHJvbWlzZTogZmlsZURhdGFQcm9taXNlLAogICAgICByZXNwb25zZTogewogICAgICAgIGFjdGlvbjogJ2NvbnRpbnVlJywKICAgICAgfQogICAgfTsKCiAgICAvLyBVc2UgYSBjaHVua2VkIHNlbmRpbmcgdG8gYXZvaWQgbWVzc2FnZSBzaXplIGxpbWl0cy4gU2VlIGIvNjIxMTU2NjAuCiAgICBsZXQgcG9zaXRpb24gPSAwOwogICAgZG8gewogICAgICBjb25zdCBsZW5ndGggPSBNYXRoLm1pbihmaWxlRGF0YS5ieXRlTGVuZ3RoIC0gcG9zaXRpb24sIE1BWF9QQVlMT0FEX1NJWkUpOwogICAgICBjb25zdCBjaHVuayA9IG5ldyBVaW50OEFycmF5KGZpbGVEYXRhLCBwb3NpdGlvbiwgbGVuZ3RoKTsKICAgICAgcG9zaXRpb24gKz0gbGVuZ3RoOwoKICAgICAgY29uc3QgYmFzZTY0ID0gYnRvYShTdHJpbmcuZnJvbUNoYXJDb2RlLmFwcGx5KG51bGwsIGNodW5rKSk7CiAgICAgIHlpZWxkIHsKICAgICAgICByZXNwb25zZTogewogICAgICAgICAgYWN0aW9uOiAnYXBwZW5kJywKICAgICAgICAgIGZpbGU6IGZpbGUubmFtZSwKICAgICAgICAgIGRhdGE6IGJhc2U2NCwKICAgICAgICB9LAogICAgICB9OwoKICAgICAgbGV0IHBlcmNlbnREb25lID0gZmlsZURhdGEuYnl0ZUxlbmd0aCA9PT0gMCA/CiAgICAgICAgICAxMDAgOgogICAgICAgICAgTWF0aC5yb3VuZCgocG9zaXRpb24gLyBmaWxlRGF0YS5ieXRlTGVuZ3RoKSAqIDEwMCk7CiAgICAgIHBlcmNlbnQudGV4dENvbnRlbnQgPSBgJHtwZXJjZW50RG9uZX0lIGRvbmVgOwoKICAgIH0gd2hpbGUgKHBvc2l0aW9uIDwgZmlsZURhdGEuYnl0ZUxlbmd0aCk7CiAgfQoKICAvLyBBbGwgZG9uZS4KICB5aWVsZCB7CiAgICByZXNwb25zZTogewogICAgICBhY3Rpb246ICdjb21wbGV0ZScsCiAgICB9CiAgfTsKfQoKc2NvcGUuZ29vZ2xlID0gc2NvcGUuZ29vZ2xlIHx8IHt9OwpzY29wZS5nb29nbGUuY29sYWIgPSBzY29wZS5nb29nbGUuY29sYWIgfHwge307CnNjb3BlLmdvb2dsZS5jb2xhYi5fZmlsZXMgPSB7CiAgX3VwbG9hZEZpbGVzLAogIF91cGxvYWRGaWxlc0NvbnRpbnVlLAp9Owp9KShzZWxmKTsK",
              "headers": [
                [
                  "content-type",
                  "application/javascript"
                ]
              ],
              "ok": true,
              "status": 200,
              "status_text": ""
            }
          }
        },
        "id": "jdw-efhMgIDW",
        "outputId": "d384ea9c-8978-48a4-cb82-2b80cb5f0dc5"
      },
      "outputs": [
        {
          "output_type": "display_data",
          "data": {
            "text/plain": [
              "<IPython.core.display.HTML object>"
            ],
            "text/html": [
              "\n",
              "     <input type=\"file\" id=\"files-e63d9722-25e9-4758-b12e-ada562fd721a\" name=\"files[]\" multiple disabled\n",
              "        style=\"border:none\" />\n",
              "     <output id=\"result-e63d9722-25e9-4758-b12e-ada562fd721a\">\n",
              "      Upload widget is only available when the cell has been executed in the\n",
              "      current browser session. Please rerun this cell to enable.\n",
              "      </output>\n",
              "      <script src=\"/nbextensions/google.colab/files.js\"></script> "
            ]
          },
          "metadata": {}
        },
        {
          "output_type": "stream",
          "name": "stdout",
          "text": [
            "Saving data.csv to data.csv\n"
          ]
        }
      ],
      "source": [
        "from google.colab import files\n",
        "data = files.upload()"
      ]
    },
    {
      "cell_type": "code",
      "execution_count": null,
      "metadata": {
        "colab": {
          "base_uri": "https://localhost:8080/",
          "height": 464
        },
        "id": "76-qmboqjbf2",
        "outputId": "3f5b0994-1545-4fea-afb8-b5263ab376ff"
      },
      "outputs": [
        {
          "output_type": "stream",
          "name": "stdout",
          "text": [
            "<class 'pandas.core.frame.DataFrame'>\n",
            "RangeIndex: 2330 entries, 0 to 2329\n",
            "Data columns (total 7 columns):\n",
            " #   Column     Non-Null Count  Dtype  \n",
            "---  ------     --------------  -----  \n",
            " 0   Location   2330 non-null   object \n",
            " 1   Latitude   2330 non-null   float64\n",
            " 2   Longitude  2330 non-null   float64\n",
            " 3   Bedrooms   2320 non-null   float64\n",
            " 4   Garage     940 non-null    float64\n",
            " 5   Bathrooms  2308 non-null   float64\n",
            " 6   Price      2330 non-null   int64  \n",
            "dtypes: float64(5), int64(1), object(1)\n",
            "memory usage: 127.5+ KB\n"
          ]
        },
        {
          "output_type": "execute_result",
          "data": {
            "text/plain": [
              "           Location  Latitude  Longitude  Bedrooms  Garage  Bathrooms    Price\n",
              "0  East legon hills  5.692759  -0.100474       4.0     NaN        5.0  1968600\n",
              "1        East legon  5.639285  -0.162459       5.0     NaN        4.0  4778014\n",
              "2            Adenta  5.704139  -0.168796       2.0     NaN        2.0   545600\n",
              "3  East legon hills  5.692759  -0.100474       4.0     NaN        5.0  1968600\n",
              "4            Adenta  5.704139  -0.168796       3.0     NaN        3.0   979600"
            ],
            "text/html": [
              "\n",
              "  <div id=\"df-886167f7-6194-4a50-bd04-6331c4b7592c\">\n",
              "    <div class=\"colab-df-container\">\n",
              "      <div>\n",
              "<style scoped>\n",
              "    .dataframe tbody tr th:only-of-type {\n",
              "        vertical-align: middle;\n",
              "    }\n",
              "\n",
              "    .dataframe tbody tr th {\n",
              "        vertical-align: top;\n",
              "    }\n",
              "\n",
              "    .dataframe thead th {\n",
              "        text-align: right;\n",
              "    }\n",
              "</style>\n",
              "<table border=\"1\" class=\"dataframe\">\n",
              "  <thead>\n",
              "    <tr style=\"text-align: right;\">\n",
              "      <th></th>\n",
              "      <th>Location</th>\n",
              "      <th>Latitude</th>\n",
              "      <th>Longitude</th>\n",
              "      <th>Bedrooms</th>\n",
              "      <th>Garage</th>\n",
              "      <th>Bathrooms</th>\n",
              "      <th>Price</th>\n",
              "    </tr>\n",
              "  </thead>\n",
              "  <tbody>\n",
              "    <tr>\n",
              "      <th>0</th>\n",
              "      <td>East legon hills</td>\n",
              "      <td>5.692759</td>\n",
              "      <td>-0.100474</td>\n",
              "      <td>4.0</td>\n",
              "      <td>NaN</td>\n",
              "      <td>5.0</td>\n",
              "      <td>1968600</td>\n",
              "    </tr>\n",
              "    <tr>\n",
              "      <th>1</th>\n",
              "      <td>East legon</td>\n",
              "      <td>5.639285</td>\n",
              "      <td>-0.162459</td>\n",
              "      <td>5.0</td>\n",
              "      <td>NaN</td>\n",
              "      <td>4.0</td>\n",
              "      <td>4778014</td>\n",
              "    </tr>\n",
              "    <tr>\n",
              "      <th>2</th>\n",
              "      <td>Adenta</td>\n",
              "      <td>5.704139</td>\n",
              "      <td>-0.168796</td>\n",
              "      <td>2.0</td>\n",
              "      <td>NaN</td>\n",
              "      <td>2.0</td>\n",
              "      <td>545600</td>\n",
              "    </tr>\n",
              "    <tr>\n",
              "      <th>3</th>\n",
              "      <td>East legon hills</td>\n",
              "      <td>5.692759</td>\n",
              "      <td>-0.100474</td>\n",
              "      <td>4.0</td>\n",
              "      <td>NaN</td>\n",
              "      <td>5.0</td>\n",
              "      <td>1968600</td>\n",
              "    </tr>\n",
              "    <tr>\n",
              "      <th>4</th>\n",
              "      <td>Adenta</td>\n",
              "      <td>5.704139</td>\n",
              "      <td>-0.168796</td>\n",
              "      <td>3.0</td>\n",
              "      <td>NaN</td>\n",
              "      <td>3.0</td>\n",
              "      <td>979600</td>\n",
              "    </tr>\n",
              "  </tbody>\n",
              "</table>\n",
              "</div>\n",
              "      <button class=\"colab-df-convert\" onclick=\"convertToInteractive('df-886167f7-6194-4a50-bd04-6331c4b7592c')\"\n",
              "              title=\"Convert this dataframe to an interactive table.\"\n",
              "              style=\"display:none;\">\n",
              "        \n",
              "  <svg xmlns=\"http://www.w3.org/2000/svg\" height=\"24px\"viewBox=\"0 0 24 24\"\n",
              "       width=\"24px\">\n",
              "    <path d=\"M0 0h24v24H0V0z\" fill=\"none\"/>\n",
              "    <path d=\"M18.56 5.44l.94 2.06.94-2.06 2.06-.94-2.06-.94-.94-2.06-.94 2.06-2.06.94zm-11 1L8.5 8.5l.94-2.06 2.06-.94-2.06-.94L8.5 2.5l-.94 2.06-2.06.94zm10 10l.94 2.06.94-2.06 2.06-.94-2.06-.94-.94-2.06-.94 2.06-2.06.94z\"/><path d=\"M17.41 7.96l-1.37-1.37c-.4-.4-.92-.59-1.43-.59-.52 0-1.04.2-1.43.59L10.3 9.45l-7.72 7.72c-.78.78-.78 2.05 0 2.83L4 21.41c.39.39.9.59 1.41.59.51 0 1.02-.2 1.41-.59l7.78-7.78 2.81-2.81c.8-.78.8-2.07 0-2.86zM5.41 20L4 18.59l7.72-7.72 1.47 1.35L5.41 20z\"/>\n",
              "  </svg>\n",
              "      </button>\n",
              "      \n",
              "  <style>\n",
              "    .colab-df-container {\n",
              "      display:flex;\n",
              "      flex-wrap:wrap;\n",
              "      gap: 12px;\n",
              "    }\n",
              "\n",
              "    .colab-df-convert {\n",
              "      background-color: #E8F0FE;\n",
              "      border: none;\n",
              "      border-radius: 50%;\n",
              "      cursor: pointer;\n",
              "      display: none;\n",
              "      fill: #1967D2;\n",
              "      height: 32px;\n",
              "      padding: 0 0 0 0;\n",
              "      width: 32px;\n",
              "    }\n",
              "\n",
              "    .colab-df-convert:hover {\n",
              "      background-color: #E2EBFA;\n",
              "      box-shadow: 0px 1px 2px rgba(60, 64, 67, 0.3), 0px 1px 3px 1px rgba(60, 64, 67, 0.15);\n",
              "      fill: #174EA6;\n",
              "    }\n",
              "\n",
              "    [theme=dark] .colab-df-convert {\n",
              "      background-color: #3B4455;\n",
              "      fill: #D2E3FC;\n",
              "    }\n",
              "\n",
              "    [theme=dark] .colab-df-convert:hover {\n",
              "      background-color: #434B5C;\n",
              "      box-shadow: 0px 1px 3px 1px rgba(0, 0, 0, 0.15);\n",
              "      filter: drop-shadow(0px 1px 2px rgba(0, 0, 0, 0.3));\n",
              "      fill: #FFFFFF;\n",
              "    }\n",
              "  </style>\n",
              "\n",
              "      <script>\n",
              "        const buttonEl =\n",
              "          document.querySelector('#df-886167f7-6194-4a50-bd04-6331c4b7592c button.colab-df-convert');\n",
              "        buttonEl.style.display =\n",
              "          google.colab.kernel.accessAllowed ? 'block' : 'none';\n",
              "\n",
              "        async function convertToInteractive(key) {\n",
              "          const element = document.querySelector('#df-886167f7-6194-4a50-bd04-6331c4b7592c');\n",
              "          const dataTable =\n",
              "            await google.colab.kernel.invokeFunction('convertToInteractive',\n",
              "                                                     [key], {});\n",
              "          if (!dataTable) return;\n",
              "\n",
              "          const docLinkHtml = 'Like what you see? Visit the ' +\n",
              "            '<a target=\"_blank\" href=https://colab.research.google.com/notebooks/data_table.ipynb>data table notebook</a>'\n",
              "            + ' to learn more about interactive tables.';\n",
              "          element.innerHTML = '';\n",
              "          dataTable['output_type'] = 'display_data';\n",
              "          await google.colab.output.renderOutput(dataTable, element);\n",
              "          const docLink = document.createElement('div');\n",
              "          docLink.innerHTML = docLinkHtml;\n",
              "          element.appendChild(docLink);\n",
              "        }\n",
              "      </script>\n",
              "    </div>\n",
              "  </div>\n",
              "  "
            ]
          },
          "metadata": {},
          "execution_count": 3
        }
      ],
      "source": [
        "housing_data = pd.read_csv(\"data.csv\")   # Loading dataset to pandas dataframe\n",
        "housing_data.info()\n",
        "housing_data.head(5)"
      ]
    },
    {
      "cell_type": "markdown",
      "metadata": {
        "id": "tYXgpt2ekxAv"
      },
      "source": [
        "## Filling all missing spaces especially in \"Garage\" column"
      ]
    },
    {
      "cell_type": "code",
      "execution_count": null,
      "metadata": {
        "colab": {
          "base_uri": "https://localhost:8080/",
          "height": 464
        },
        "id": "OCDSEyY6k2kO",
        "outputId": "a921092b-6d3f-44d7-b37a-0956b70dd681"
      },
      "outputs": [
        {
          "output_type": "stream",
          "name": "stdout",
          "text": [
            "<class 'pandas.core.frame.DataFrame'>\n",
            "RangeIndex: 2330 entries, 0 to 2329\n",
            "Data columns (total 7 columns):\n",
            " #   Column     Non-Null Count  Dtype  \n",
            "---  ------     --------------  -----  \n",
            " 0   Location   2330 non-null   object \n",
            " 1   Latitude   2330 non-null   float64\n",
            " 2   Longitude  2330 non-null   float64\n",
            " 3   Price      2330 non-null   int64  \n",
            " 4   Bedrooms   2330 non-null   float64\n",
            " 5   Garage     2330 non-null   float64\n",
            " 6   Bathrooms  2330 non-null   float64\n",
            "dtypes: float64(5), int64(1), object(1)\n",
            "memory usage: 127.5+ KB\n"
          ]
        },
        {
          "output_type": "execute_result",
          "data": {
            "text/plain": [
              "           Location  Latitude  Longitude    Price  Bedrooms  Garage  Bathrooms\n",
              "0  East legon hills  5.692759  -0.100474  1968600       4.0     3.0        5.0\n",
              "1        East legon  5.639285  -0.162459  4778014       5.0     3.0        4.0\n",
              "2            Adenta  5.704139  -0.168796   545600       2.0     3.0        2.0\n",
              "3  East legon hills  5.692759  -0.100474  1968600       4.0     3.0        5.0\n",
              "4            Adenta  5.704139  -0.168796   979600       3.0     3.0        3.0"
            ],
            "text/html": [
              "\n",
              "  <div id=\"df-930e84a4-3e95-473c-b39c-5ecdbcdbb2d5\">\n",
              "    <div class=\"colab-df-container\">\n",
              "      <div>\n",
              "<style scoped>\n",
              "    .dataframe tbody tr th:only-of-type {\n",
              "        vertical-align: middle;\n",
              "    }\n",
              "\n",
              "    .dataframe tbody tr th {\n",
              "        vertical-align: top;\n",
              "    }\n",
              "\n",
              "    .dataframe thead th {\n",
              "        text-align: right;\n",
              "    }\n",
              "</style>\n",
              "<table border=\"1\" class=\"dataframe\">\n",
              "  <thead>\n",
              "    <tr style=\"text-align: right;\">\n",
              "      <th></th>\n",
              "      <th>Location</th>\n",
              "      <th>Latitude</th>\n",
              "      <th>Longitude</th>\n",
              "      <th>Price</th>\n",
              "      <th>Bedrooms</th>\n",
              "      <th>Garage</th>\n",
              "      <th>Bathrooms</th>\n",
              "    </tr>\n",
              "  </thead>\n",
              "  <tbody>\n",
              "    <tr>\n",
              "      <th>0</th>\n",
              "      <td>East legon hills</td>\n",
              "      <td>5.692759</td>\n",
              "      <td>-0.100474</td>\n",
              "      <td>1968600</td>\n",
              "      <td>4.0</td>\n",
              "      <td>3.0</td>\n",
              "      <td>5.0</td>\n",
              "    </tr>\n",
              "    <tr>\n",
              "      <th>1</th>\n",
              "      <td>East legon</td>\n",
              "      <td>5.639285</td>\n",
              "      <td>-0.162459</td>\n",
              "      <td>4778014</td>\n",
              "      <td>5.0</td>\n",
              "      <td>3.0</td>\n",
              "      <td>4.0</td>\n",
              "    </tr>\n",
              "    <tr>\n",
              "      <th>2</th>\n",
              "      <td>Adenta</td>\n",
              "      <td>5.704139</td>\n",
              "      <td>-0.168796</td>\n",
              "      <td>545600</td>\n",
              "      <td>2.0</td>\n",
              "      <td>3.0</td>\n",
              "      <td>2.0</td>\n",
              "    </tr>\n",
              "    <tr>\n",
              "      <th>3</th>\n",
              "      <td>East legon hills</td>\n",
              "      <td>5.692759</td>\n",
              "      <td>-0.100474</td>\n",
              "      <td>1968600</td>\n",
              "      <td>4.0</td>\n",
              "      <td>3.0</td>\n",
              "      <td>5.0</td>\n",
              "    </tr>\n",
              "    <tr>\n",
              "      <th>4</th>\n",
              "      <td>Adenta</td>\n",
              "      <td>5.704139</td>\n",
              "      <td>-0.168796</td>\n",
              "      <td>979600</td>\n",
              "      <td>3.0</td>\n",
              "      <td>3.0</td>\n",
              "      <td>3.0</td>\n",
              "    </tr>\n",
              "  </tbody>\n",
              "</table>\n",
              "</div>\n",
              "      <button class=\"colab-df-convert\" onclick=\"convertToInteractive('df-930e84a4-3e95-473c-b39c-5ecdbcdbb2d5')\"\n",
              "              title=\"Convert this dataframe to an interactive table.\"\n",
              "              style=\"display:none;\">\n",
              "        \n",
              "  <svg xmlns=\"http://www.w3.org/2000/svg\" height=\"24px\"viewBox=\"0 0 24 24\"\n",
              "       width=\"24px\">\n",
              "    <path d=\"M0 0h24v24H0V0z\" fill=\"none\"/>\n",
              "    <path d=\"M18.56 5.44l.94 2.06.94-2.06 2.06-.94-2.06-.94-.94-2.06-.94 2.06-2.06.94zm-11 1L8.5 8.5l.94-2.06 2.06-.94-2.06-.94L8.5 2.5l-.94 2.06-2.06.94zm10 10l.94 2.06.94-2.06 2.06-.94-2.06-.94-.94-2.06-.94 2.06-2.06.94z\"/><path d=\"M17.41 7.96l-1.37-1.37c-.4-.4-.92-.59-1.43-.59-.52 0-1.04.2-1.43.59L10.3 9.45l-7.72 7.72c-.78.78-.78 2.05 0 2.83L4 21.41c.39.39.9.59 1.41.59.51 0 1.02-.2 1.41-.59l7.78-7.78 2.81-2.81c.8-.78.8-2.07 0-2.86zM5.41 20L4 18.59l7.72-7.72 1.47 1.35L5.41 20z\"/>\n",
              "  </svg>\n",
              "      </button>\n",
              "      \n",
              "  <style>\n",
              "    .colab-df-container {\n",
              "      display:flex;\n",
              "      flex-wrap:wrap;\n",
              "      gap: 12px;\n",
              "    }\n",
              "\n",
              "    .colab-df-convert {\n",
              "      background-color: #E8F0FE;\n",
              "      border: none;\n",
              "      border-radius: 50%;\n",
              "      cursor: pointer;\n",
              "      display: none;\n",
              "      fill: #1967D2;\n",
              "      height: 32px;\n",
              "      padding: 0 0 0 0;\n",
              "      width: 32px;\n",
              "    }\n",
              "\n",
              "    .colab-df-convert:hover {\n",
              "      background-color: #E2EBFA;\n",
              "      box-shadow: 0px 1px 2px rgba(60, 64, 67, 0.3), 0px 1px 3px 1px rgba(60, 64, 67, 0.15);\n",
              "      fill: #174EA6;\n",
              "    }\n",
              "\n",
              "    [theme=dark] .colab-df-convert {\n",
              "      background-color: #3B4455;\n",
              "      fill: #D2E3FC;\n",
              "    }\n",
              "\n",
              "    [theme=dark] .colab-df-convert:hover {\n",
              "      background-color: #434B5C;\n",
              "      box-shadow: 0px 1px 3px 1px rgba(0, 0, 0, 0.15);\n",
              "      filter: drop-shadow(0px 1px 2px rgba(0, 0, 0, 0.3));\n",
              "      fill: #FFFFFF;\n",
              "    }\n",
              "  </style>\n",
              "\n",
              "      <script>\n",
              "        const buttonEl =\n",
              "          document.querySelector('#df-930e84a4-3e95-473c-b39c-5ecdbcdbb2d5 button.colab-df-convert');\n",
              "        buttonEl.style.display =\n",
              "          google.colab.kernel.accessAllowed ? 'block' : 'none';\n",
              "\n",
              "        async function convertToInteractive(key) {\n",
              "          const element = document.querySelector('#df-930e84a4-3e95-473c-b39c-5ecdbcdbb2d5');\n",
              "          const dataTable =\n",
              "            await google.colab.kernel.invokeFunction('convertToInteractive',\n",
              "                                                     [key], {});\n",
              "          if (!dataTable) return;\n",
              "\n",
              "          const docLinkHtml = 'Like what you see? Visit the ' +\n",
              "            '<a target=\"_blank\" href=https://colab.research.google.com/notebooks/data_table.ipynb>data table notebook</a>'\n",
              "            + ' to learn more about interactive tables.';\n",
              "          element.innerHTML = '';\n",
              "          dataTable['output_type'] = 'display_data';\n",
              "          await google.colab.output.renderOutput(dataTable, element);\n",
              "          const docLink = document.createElement('div');\n",
              "          docLink.innerHTML = docLinkHtml;\n",
              "          element.appendChild(docLink);\n",
              "        }\n",
              "      </script>\n",
              "    </div>\n",
              "  </div>\n",
              "  "
            ]
          },
          "metadata": {},
          "execution_count": 4
        }
      ],
      "source": [
        "imputer = SimpleImputer(strategy='median');\n",
        "housing_data_rooms = housing_data.drop([\"Location\", \"Longitude\", \"Latitude\", \"Price\"], axis=1)\n",
        "transformed_data = imputer.fit_transform(housing_data_rooms)\n",
        "new_rooms_data = pd.DataFrame(transformed_data, columns=housing_data_rooms.columns, index=housing_data_rooms.index)\n",
        "# New transformed data set after filling all missing spaces\n",
        "new_housing_data = pd.concat([housing_data.drop([\"Bathrooms\", \"Garage\", \"Bedrooms\"], axis=1), new_rooms_data], axis=1)    # Concatenating dataframes of transformed data with part of existing dataframe\n",
        "new_housing_data.info()\n",
        "new_housing_data.head(5)"
      ]
    },
    {
      "cell_type": "markdown",
      "metadata": {
        "id": "N5aRn3MOli_y"
      },
      "source": [
        "## Correlations of features with \"Price\" feature"
      ]
    },
    {
      "cell_type": "code",
      "execution_count": null,
      "metadata": {
        "colab": {
          "base_uri": "https://localhost:8080/",
          "height": 523
        },
        "id": "mj_nel9Qln8G",
        "outputId": "158aa46d-1e8d-4462-eeb9-5caec225e6eb"
      },
      "outputs": [
        {
          "output_type": "stream",
          "name": "stdout",
          "text": [
            "Price        1.000000\n",
            "Bedrooms     0.177746\n",
            "Bathrooms    0.154974\n",
            "Garage       0.046840\n",
            "Longitude   -0.001204\n",
            "Latitude    -0.097869\n",
            "Name: Price, dtype: float64\n",
            "           Latitude  Longitude     Price  Bedrooms    Garage  Bathrooms\n",
            "Latitude   1.000000   0.350324 -0.097869 -0.152484 -0.029670  -0.130367\n",
            "Longitude  0.350324   1.000000 -0.001204 -0.049472 -0.019589  -0.016928\n",
            "Price     -0.097869  -0.001204  1.000000  0.177746  0.046840   0.154974\n",
            "Bedrooms  -0.152484  -0.049472  0.177746  1.000000  0.031754   0.874607\n",
            "Garage    -0.029670  -0.019589  0.046840  0.031754  1.000000   0.023100\n",
            "Bathrooms -0.130367  -0.016928  0.154974  0.874607  0.023100   1.000000\n"
          ]
        },
        {
          "output_type": "display_data",
          "data": {
            "text/plain": [
              "<Figure size 432x288 with 1 Axes>"
            ],
            "image/png": "[encoded data removed]"
          },
          "metadata": {
            "needs_background": "light"
          }
        }
      ],
      "source": [
        "corr_matrix = new_housing_data.corr()\n",
        "plt.imshow(corr_matrix, cmap='hot')\n",
        "print(corr_matrix[\"Price\"].sort_values(ascending=False))\n",
        "print(corr_matrix)\n",
        "plt.show()"
      ]
    },
    {
      "cell_type": "markdown",
      "metadata": {
        "id": "gIz5ipi1mDxF"
      },
      "source": [
        "## Visualizing dataset"
      ]
    },
    {
      "cell_type": "code",
      "execution_count": null,
      "metadata": {
        "colab": {
          "base_uri": "https://localhost:8080/",
          "height": 426
        },
        "id": "IJVOWwz3mIGE",
        "outputId": "61b0cade-d16d-4135-8fbf-b4ddab0ea374"
      },
      "outputs": [
        {
          "output_type": "display_data",
          "data": {
            "text/plain": [
              "<Figure size 720x504 with 2 Axes>"
            ],
            "image/png": "[encoded data removed]"
          },
          "metadata": {
            "needs_background": "light"
          }
        }
      ],
      "source": [
        "new_housing_data.plot(kind=\"scatter\", x=\"Longitude\", y=\"Latitude\", s=(new_housing_data[\"Bedrooms\"] + new_housing_data[\"Bathrooms\"] + new_housing_data[\"Garage\"]/10), label=\"Avg. House Size\" , c='Price', alpha=0.4, figsize=(10,7),  cmap=plt.get_cmap(\"jet\"), colorbar=True)\n",
        "plt.legend()\n",
        "plt.show()"
      ]
    },
    {
      "cell_type": "markdown",
      "metadata": {
        "id": "SY6MvZGhnJQR"
      },
      "source": [
        "##Pairplotting features "
      ]
    },
    {
      "cell_type": "code",
      "execution_count": null,
      "metadata": {
        "colab": {
          "base_uri": "https://localhost:8080/",
          "height": 674
        },
        "id": "_LtZOi8WmByD",
        "outputId": "c35f53c3-55b1-43a8-8e4e-52e4a50bf427"
      },
      "outputs": [
        {
          "output_type": "execute_result",
          "data": {
            "text/plain": [
              "<seaborn.axisgrid.PairGrid at 0x7f477bb61e50>"
            ]
          },
          "metadata": {},
          "execution_count": 7
        },
        {
          "output_type": "display_data",
          "data": {
            "text/plain": [
              "<Figure size 648x648 with 42 Axes>"
            ],
            "image/png": "[encoded data removed]"
          },
          "metadata": {
            "needs_background": "light"
          }
        }
      ],
      "source": [
        "sns.pairplot(new_housing_data,  diag_kind=\"hist\", height=1.5)"
      ]
    },
    {
      "cell_type": "markdown",
      "metadata": {
        "id": "c14Lq4N_0Z-H"
      },
      "source": [
        "## Handling Location attribute\n"
      ]
    },
    {
      "cell_type": "code",
      "execution_count": null,
      "metadata": {
        "colab": {
          "base_uri": "https://localhost:8080/",
          "height": 513
        },
        "id": "SU-_nPQ30fYP",
        "outputId": "17e89b05-d5e6-4ad0-d137-d5632ff94803"
      },
      "outputs": [
        {
          "output_type": "stream",
          "name": "stdout",
          "text": [
            "<class 'pandas.core.frame.DataFrame'>\n",
            "RangeIndex: 2330 entries, 0 to 2329\n",
            "Columns: 232 entries, Location to ('Winneba',)\n",
            "dtypes: float64(230), int64(1), object(1)\n",
            "memory usage: 4.1+ MB\n"
          ]
        },
        {
          "output_type": "execute_result",
          "data": {
            "text/plain": [
              "           Location  Latitude  Longitude    Price  Bedrooms  Garage  \\\n",
              "0  East legon hills  5.692759  -0.100474  1968600       4.0     3.0   \n",
              "1        East legon  5.639285  -0.162459  4778014       5.0     3.0   \n",
              "2            Adenta  5.704139  -0.168796   545600       2.0     3.0   \n",
              "3  East legon hills  5.692759  -0.100474  1968600       4.0     3.0   \n",
              "4            Adenta  5.704139  -0.168796   979600       3.0     3.0   \n",
              "\n",
              "   Bathrooms  ( achimota,)  ( achimota mile 7,)  ( east legon,)  ...  \\\n",
              "0        5.0           0.0                  0.0             0.0  ...   \n",
              "1        4.0           0.0                  0.0             0.0  ...   \n",
              "2        2.0           0.0                  0.0             0.0  ...   \n",
              "3        5.0           0.0                  0.0             0.0  ...   \n",
              "4        3.0           0.0                  0.0             0.0  ...   \n",
              "\n",
              "   (Tse addo $330,)  (Tse addo $340,)  (Upsa road,)  (Weija,)  \\\n",
              "0               0.0               0.0           0.0       0.0   \n",
              "1               0.0               0.0           0.0       0.0   \n",
              "2               0.0               0.0           0.0       0.0   \n",
              "3               0.0               0.0           0.0       0.0   \n",
              "4               0.0               0.0           0.0       0.0   \n",
              "\n",
              "   (Weija old barrier,)  (West legon,)  (West legon ,)  (West trasacco,)  \\\n",
              "0                   0.0            0.0             0.0               0.0   \n",
              "1                   0.0            0.0             0.0               0.0   \n",
              "2                   0.0            0.0             0.0               0.0   \n",
              "3                   0.0            0.0             0.0               0.0   \n",
              "4                   0.0            0.0             0.0               0.0   \n",
              "\n",
              "   (Westlands accra ghana ,)  (Winneba,)  \n",
              "0                        0.0         0.0  \n",
              "1                        0.0         0.0  \n",
              "2                        0.0         0.0  \n",
              "3                        0.0         0.0  \n",
              "4                        0.0         0.0  \n",
              "\n",
              "[5 rows x 232 columns]"
            ],
            "text/html": [
              "\n",
              "  <div id=\"df-acd1e824-8c46-4d00-b1a9-efc5c8372c08\">\n",
              "    <div class=\"colab-df-container\">\n",
              "      <div>\n",
              "<style scoped>\n",
              "    .dataframe tbody tr th:only-of-type {\n",
              "        vertical-align: middle;\n",
              "    }\n",
              "\n",
              "    .dataframe tbody tr th {\n",
              "        vertical-align: top;\n",
              "    }\n",
              "\n",
              "    .dataframe thead th {\n",
              "        text-align: right;\n",
              "    }\n",
              "</style>\n",
              "<table border=\"1\" class=\"dataframe\">\n",
              "  <thead>\n",
              "    <tr style=\"text-align: right;\">\n",
              "      <th></th>\n",
              "      <th>Location</th>\n",
              "      <th>Latitude</th>\n",
              "      <th>Longitude</th>\n",
              "      <th>Price</th>\n",
              "      <th>Bedrooms</th>\n",
              "      <th>Garage</th>\n",
              "      <th>Bathrooms</th>\n",
              "      <th>( achimota,)</th>\n",
              "      <th>( achimota mile 7,)</th>\n",
              "      <th>( east legon,)</th>\n",
              "      <th>...</th>\n",
              "      <th>(Tse addo $330,)</th>\n",
              "      <th>(Tse addo $340,)</th>\n",
              "      <th>(Upsa road,)</th>\n",
              "      <th>(Weija,)</th>\n",
              "      <th>(Weija old barrier,)</th>\n",
              "      <th>(West legon,)</th>\n",
              "      <th>(West legon ,)</th>\n",
              "      <th>(West trasacco,)</th>\n",
              "      <th>(Westlands accra ghana ,)</th>\n",
              "      <th>(Winneba,)</th>\n",
              "    </tr>\n",
              "  </thead>\n",
              "  <tbody>\n",
              "    <tr>\n",
              "      <th>0</th>\n",
              "      <td>East legon hills</td>\n",
              "      <td>5.692759</td>\n",
              "      <td>-0.100474</td>\n",
              "      <td>1968600</td>\n",
              "      <td>4.0</td>\n",
              "      <td>3.0</td>\n",
              "      <td>5.0</td>\n",
              "      <td>0.0</td>\n",
              "      <td>0.0</td>\n",
              "      <td>0.0</td>\n",
              "      <td>...</td>\n",
              "      <td>0.0</td>\n",
              "      <td>0.0</td>\n",
              "      <td>0.0</td>\n",
              "      <td>0.0</td>\n",
              "      <td>0.0</td>\n",
              "      <td>0.0</td>\n",
              "      <td>0.0</td>\n",
              "      <td>0.0</td>\n",
              "      <td>0.0</td>\n",
              "      <td>0.0</td>\n",
              "    </tr>\n",
              "    <tr>\n",
              "      <th>1</th>\n",
              "      <td>East legon</td>\n",
              "      <td>5.639285</td>\n",
              "      <td>-0.162459</td>\n",
              "      <td>4778014</td>\n",
              "      <td>5.0</td>\n",
              "      <td>3.0</td>\n",
              "      <td>4.0</td>\n",
              "      <td>0.0</td>\n",
              "      <td>0.0</td>\n",
              "      <td>0.0</td>\n",
              "      <td>...</td>\n",
              "      <td>0.0</td>\n",
              "      <td>0.0</td>\n",
              "      <td>0.0</td>\n",
              "      <td>0.0</td>\n",
              "      <td>0.0</td>\n",
              "      <td>0.0</td>\n",
              "      <td>0.0</td>\n",
              "      <td>0.0</td>\n",
              "      <td>0.0</td>\n",
              "      <td>0.0</td>\n",
              "    </tr>\n",
              "    <tr>\n",
              "      <th>2</th>\n",
              "      <td>Adenta</td>\n",
              "      <td>5.704139</td>\n",
              "      <td>-0.168796</td>\n",
              "      <td>545600</td>\n",
              "      <td>2.0</td>\n",
              "      <td>3.0</td>\n",
              "      <td>2.0</td>\n",
              "      <td>0.0</td>\n",
              "      <td>0.0</td>\n",
              "      <td>0.0</td>\n",
              "      <td>...</td>\n",
              "      <td>0.0</td>\n",
              "      <td>0.0</td>\n",
              "      <td>0.0</td>\n",
              "      <td>0.0</td>\n",
              "      <td>0.0</td>\n",
              "      <td>0.0</td>\n",
              "      <td>0.0</td>\n",
              "      <td>0.0</td>\n",
              "      <td>0.0</td>\n",
              "      <td>0.0</td>\n",
              "    </tr>\n",
              "    <tr>\n",
              "      <th>3</th>\n",
              "      <td>East legon hills</td>\n",
              "      <td>5.692759</td>\n",
              "      <td>-0.100474</td>\n",
              "      <td>1968600</td>\n",
              "      <td>4.0</td>\n",
              "      <td>3.0</td>\n",
              "      <td>5.0</td>\n",
              "      <td>0.0</td>\n",
              "      <td>0.0</td>\n",
              "      <td>0.0</td>\n",
              "      <td>...</td>\n",
              "      <td>0.0</td>\n",
              "      <td>0.0</td>\n",
              "      <td>0.0</td>\n",
              "      <td>0.0</td>\n",
              "      <td>0.0</td>\n",
              "      <td>0.0</td>\n",
              "      <td>0.0</td>\n",
              "      <td>0.0</td>\n",
              "      <td>0.0</td>\n",
              "      <td>0.0</td>\n",
              "    </tr>\n",
              "    <tr>\n",
              "      <th>4</th>\n",
              "      <td>Adenta</td>\n",
              "      <td>5.704139</td>\n",
              "      <td>-0.168796</td>\n",
              "      <td>979600</td>\n",
              "      <td>3.0</td>\n",
              "      <td>3.0</td>\n",
              "      <td>3.0</td>\n",
              "      <td>0.0</td>\n",
              "      <td>0.0</td>\n",
              "      <td>0.0</td>\n",
              "      <td>...</td>\n",
              "      <td>0.0</td>\n",
              "      <td>0.0</td>\n",
              "      <td>0.0</td>\n",
              "      <td>0.0</td>\n",
              "      <td>0.0</td>\n",
              "      <td>0.0</td>\n",
              "      <td>0.0</td>\n",
              "      <td>0.0</td>\n",
              "      <td>0.0</td>\n",
              "      <td>0.0</td>\n",
              "    </tr>\n",
              "  </tbody>\n",
              "</table>\n",
              "<p>5 rows × 232 columns</p>\n",
              "</div>\n",
              "      <button class=\"colab-df-convert\" onclick=\"convertToInteractive('df-acd1e824-8c46-4d00-b1a9-efc5c8372c08')\"\n",
              "              title=\"Convert this dataframe to an interactive table.\"\n",
              "              style=\"display:none;\">\n",
              "        \n",
              "  <svg xmlns=\"http://www.w3.org/2000/svg\" height=\"24px\"viewBox=\"0 0 24 24\"\n",
              "       width=\"24px\">\n",
              "    <path d=\"M0 0h24v24H0V0z\" fill=\"none\"/>\n",
              "    <path d=\"M18.56 5.44l.94 2.06.94-2.06 2.06-.94-2.06-.94-.94-2.06-.94 2.06-2.06.94zm-11 1L8.5 8.5l.94-2.06 2.06-.94-2.06-.94L8.5 2.5l-.94 2.06-2.06.94zm10 10l.94 2.06.94-2.06 2.06-.94-2.06-.94-.94-2.06-.94 2.06-2.06.94z\"/><path d=\"M17.41 7.96l-1.37-1.37c-.4-.4-.92-.59-1.43-.59-.52 0-1.04.2-1.43.59L10.3 9.45l-7.72 7.72c-.78.78-.78 2.05 0 2.83L4 21.41c.39.39.9.59 1.41.59.51 0 1.02-.2 1.41-.59l7.78-7.78 2.81-2.81c.8-.78.8-2.07 0-2.86zM5.41 20L4 18.59l7.72-7.72 1.47 1.35L5.41 20z\"/>\n",
              "  </svg>\n",
              "      </button>\n",
              "      \n",
              "  <style>\n",
              "    .colab-df-container {\n",
              "      display:flex;\n",
              "      flex-wrap:wrap;\n",
              "      gap: 12px;\n",
              "    }\n",
              "\n",
              "    .colab-df-convert {\n",
              "      background-color: #E8F0FE;\n",
              "      border: none;\n",
              "      border-radius: 50%;\n",
              "      cursor: pointer;\n",
              "      display: none;\n",
              "      fill: #1967D2;\n",
              "      height: 32px;\n",
              "      padding: 0 0 0 0;\n",
              "      width: 32px;\n",
              "    }\n",
              "\n",
              "    .colab-df-convert:hover {\n",
              "      background-color: #E2EBFA;\n",
              "      box-shadow: 0px 1px 2px rgba(60, 64, 67, 0.3), 0px 1px 3px 1px rgba(60, 64, 67, 0.15);\n",
              "      fill: #174EA6;\n",
              "    }\n",
              "\n",
              "    [theme=dark] .colab-df-convert {\n",
              "      background-color: #3B4455;\n",
              "      fill: #D2E3FC;\n",
              "    }\n",
              "\n",
              "    [theme=dark] .colab-df-convert:hover {\n",
              "      background-color: #434B5C;\n",
              "      box-shadow: 0px 1px 3px 1px rgba(0, 0, 0, 0.15);\n",
              "      filter: drop-shadow(0px 1px 2px rgba(0, 0, 0, 0.3));\n",
              "      fill: #FFFFFF;\n",
              "    }\n",
              "  </style>\n",
              "\n",
              "      <script>\n",
              "        const buttonEl =\n",
              "          document.querySelector('#df-acd1e824-8c46-4d00-b1a9-efc5c8372c08 button.colab-df-convert');\n",
              "        buttonEl.style.display =\n",
              "          google.colab.kernel.accessAllowed ? 'block' : 'none';\n",
              "\n",
              "        async function convertToInteractive(key) {\n",
              "          const element = document.querySelector('#df-acd1e824-8c46-4d00-b1a9-efc5c8372c08');\n",
              "          const dataTable =\n",
              "            await google.colab.kernel.invokeFunction('convertToInteractive',\n",
              "                                                     [key], {});\n",
              "          if (!dataTable) return;\n",
              "\n",
              "          const docLinkHtml = 'Like what you see? Visit the ' +\n",
              "            '<a target=\"_blank\" href=https://colab.research.google.com/notebooks/data_table.ipynb>data table notebook</a>'\n",
              "            + ' to learn more about interactive tables.';\n",
              "          element.innerHTML = '';\n",
              "          dataTable['output_type'] = 'display_data';\n",
              "          await google.colab.output.renderOutput(dataTable, element);\n",
              "          const docLink = document.createElement('div');\n",
              "          docLink.innerHTML = docLinkHtml;\n",
              "          element.appendChild(docLink);\n",
              "        }\n",
              "      </script>\n",
              "    </div>\n",
              "  </div>\n",
              "  "
            ]
          },
          "metadata": {},
          "execution_count": 61
        }
      ],
      "source": [
        "transformer = OneHotEncoder(handle_unknown=\"ignore\")\n",
        "transform = transformer.fit(new_housing_data[[\"Location\"]])\n",
        "# Saving encoder for user inputs\n",
        "with open(\"encoder.pickle\",\"wb\") as file:\n",
        "  pickle.dump(transform, file)\n",
        "transformed = transformer.transform(new_housing_data[[\"Location\"]]).toarray()\n",
        "cat_data = pd.DataFrame(transformed, columns=transformer.categories_, index=new_housing_data[\"Location\"].index)\n",
        "prepared_housing_data = pd.concat([new_housing_data, cat_data], axis=1)    # Concatenating dataframes of transformed data with part of existing dataframe\n",
        "\n",
        "prepared_housing_data.info()\n",
        "prepared_housing_data.head(5)\n"
      ]
    },
    {
      "cell_type": "markdown",
      "metadata": {
        "id": "xkAeHeb8e8-f"
      },
      "source": [
        "## Splitting data into datasets"
      ]
    },
    {
      "cell_type": "code",
      "execution_count": null,
      "metadata": {
        "id": "2PAYktwofh8j"
      },
      "outputs": [],
      "source": [
        "housing_data = prepared_housing_data.drop([\"Location\",  \"Price\"], axis=1)  # Removes house prices and locations from data\n",
        "housing_labels = prepared_housing_data['Price']    # Sets house prices to labels in a data frame\n",
        "train_X, data_X, train_y, label_y = train_test_split(housing_data.values, housing_labels.values, test_size=0.20, random_state=47, shuffle=True)\n",
        "# Splitting data into test datasets and validation datasets\n",
        "test_X, validation_X, test_y, validation_y = train_test_split(data_X, label_y, random_state=47, shuffle=True, test_size=0.10)\n"
      ]
    },
    {
      "cell_type": "markdown",
      "metadata": {
        "id": "aZbaE3DtgbTY"
      },
      "source": [
        "## Model selection"
      ]
    },
    {
      "cell_type": "code",
      "execution_count": null,
      "metadata": {
        "id": "qdTAUkdlgdNX"
      },
      "outputs": [],
      "source": [
        "lr_reg = LinearRegression()\n",
        "dt_reg = DecisionTreeRegressor()\n",
        "rf_reg = RandomForestRegressor()\n",
        "svr_reg = SVR()\n",
        "etr_reg = ExtraTreesRegressor()\n",
        "voting_reg = VotingRegressor(estimators=[('rf', rf_reg), ('lr', lr_reg), ('dt', dt_reg), ('svr_reg',svr_reg),('etr_reg', etr_reg)])\n"
      ]
    },
    {
      "cell_type": "markdown",
      "metadata": {
        "id": "jR3svzCdgy_D"
      },
      "source": [
        "## Analysis of the predictors on test set"
      ]
    },
    {
      "cell_type": "code",
      "execution_count": null,
      "metadata": {
        "colab": {
          "base_uri": "https://localhost:8080/"
        },
        "id": "p2A1QJ2ehOF0",
        "outputId": "35a49ec5-62ce-4a79-d267-cfeafe7cf12a"
      },
      "outputs": [
        {
          "output_type": "stream",
          "name": "stdout",
          "text": [
            "Analysis of the predictors on the test dataset\n",
            "\n",
            "LinearRegression\n",
            "Accuracy : 44.97712898501571\n",
            "Root Mean Squared Error : 1922861.5728772657\n",
            "Mean Squared Error : 3697396628448.032\n",
            "Mean Absolute Error : 1190570.3930617524\n",
            "Mean Absolute Percentage Error : 4.4240036260169475\n",
            "R Squared: 0.44977128985015713\n",
            "\n",
            "DecisionTreeRegressor\n",
            "Accuracy : 40.49682626656556\n",
            "Root Mean Squared Error : 1999615.349692893\n",
            "Mean Squared Error : 3998461546727.4307\n",
            "Mean Absolute Error : 944671.6785465555\n",
            "Mean Absolute Percentage Error : 3.8517149347931396\n",
            "R Squared: 0.40496826266565566\n",
            "\n",
            "RandomForestRegressor\n",
            "Accuracy : 37.551917072560634\n",
            "Root Mean Squared Error : 2048499.9231853276\n",
            "Mean Squared Error : 4196351935290.2925\n",
            "Mean Absolute Error : 1004776.544494909\n",
            "Mean Absolute Percentage Error : 4.8355363858413405\n",
            "R Squared: 0.37551917072560637\n",
            "\n",
            "SVR\n",
            "Accuracy : -5.571700936193524\n",
            "Root Mean Squared Error : 2663484.3915120303\n",
            "Mean Squared Error : 7094149103828.21\n",
            "Mean Absolute Error : 1542434.4318909927\n",
            "Mean Absolute Percentage Error : 3.396834135450588\n",
            "R Squared: -0.055717009361935244\n",
            "\n",
            "ExtraTreesRegressor\n",
            "Accuracy : 35.37439913771108\n",
            "Root Mean Squared Error : 2083908.7283328886\n",
            "Mean Squared Error : 4342675588021.9966\n",
            "Mean Absolute Error : 950771.0488456257\n",
            "Mean Absolute Percentage Error : 3.8950599601224267\n",
            "R Squared: 0.35374399137711077\n",
            "\n",
            "VotingRegressor\n",
            "Accuracy : 54.22552931728865\n",
            "Root Mean Squared Error : 1753832.2920887603\n",
            "Mean Squared Error : 3075927708773.315\n",
            "Mean Absolute Error : 971814.4195702813\n",
            "Mean Absolute Percentage Error : 3.659807703419971\n",
            "R Squared: 0.5422552931728865\n"
          ]
        }
      ],
      "source": [
        "print(\"Analysis of the predictors on the test dataset\")\n",
        "# print(\"Labels : {}\".format(list(test_y[:5])))\n",
        "for reg in (lr_reg, dt_reg, rf_reg,svr_reg,etr_reg, voting_reg):\n",
        "    reg.fit(train_X, train_y)\n",
        "    y_pred = reg.predict(test_X)\n",
        "    scores = cross_val_score(reg, train_X, train_y, scoring=\"neg_mean_squared_error\", cv=10)   # Checks for scores in sets of training data\n",
        "    print(\"\\n\" + reg.__class__.__name__)\n",
        "    print(\"Accuracy : {}\".format(reg.score(test_X, test_y)* 100))\n",
        "    print(\"Root Mean Squared Error : {}\".format(mean_squared_error(test_y,y_pred, squared=False)))\n",
        "    print(\"Mean Squared Error : {}\".format(mean_squared_error(test_y,y_pred, squared=True)))\n",
        "    print(\"Mean Absolute Error : {}\".format(mean_absolute_error(test_y,y_pred)))\n",
        "    print(\"Mean Absolute Percentage Error : {}\".format(mean_absolute_percentage_error(test_y,y_pred)))\n",
        "    print(\"R Squared: {}\".format(r2_score(test_y,y_pred)))"
      ]
    },
    {
      "cell_type": "markdown",
      "metadata": {
        "id": "RM8yxl63IjJK"
      },
      "source": [
        "## Analysis of the predictors on validation set\n"
      ]
    },
    {
      "cell_type": "code",
      "execution_count": null,
      "metadata": {
        "colab": {
          "base_uri": "https://localhost:8080/"
        },
        "id": "9YQVnU3thSLP",
        "outputId": "c9505096-60bf-4c35-ef54-d1cfabede04d"
      },
      "outputs": [
        {
          "output_type": "stream",
          "name": "stdout",
          "text": [
            "Accuracy on validation dataset\n",
            "\n",
            "LinearRegression\n",
            "Accuracy : 35.67617665770443\n",
            "Root Mean Squared Error : 2292940.48357204\n",
            "Mean Squared Error : 5257576061203.582\n",
            "Mean Absolute Error : 1349612.6348977026\n",
            "Mean Absolute Percentage Error : 0.7319792307216378\n",
            "R Squared: 0.3567617665770443\n",
            "\n",
            "DecisionTreeRegressor\n",
            "Accuracy : -46.01213041363954\n",
            "Root Mean Squared Error : 3454628.29464387\n",
            "Mean Squared Error : 11934456654154.016\n",
            "Mean Absolute Error : 1354814.1584230056\n",
            "Mean Absolute Percentage Error : 0.6986349971968765\n",
            "R Squared: -0.4601213041363954\n",
            "\n",
            "RandomForestRegressor\n",
            "Accuracy : -53.27555358488556\n",
            "Root Mean Squared Error : 3539511.3033127696\n",
            "Mean Squared Error : 12528140266278.861\n",
            "Mean Absolute Error : 1377348.245720164\n",
            "Mean Absolute Percentage Error : 0.7005147943743348\n",
            "R Squared: -0.5327555358488556\n",
            "\n",
            "SVR\n",
            "Accuracy : -6.539824482619694\n",
            "Root Mean Squared Error : 2950956.7566434913\n",
            "Mean Squared Error : 8708145779579.875\n",
            "Mean Absolute Error : 1598179.6544462766\n",
            "Mean Absolute Percentage Error : 0.9730892537656147\n",
            "R Squared: -0.06539824482619694\n",
            "\n",
            "ExtraTreesRegressor\n",
            "Accuracy : -44.97353477389967\n",
            "Root Mean Squared Error : 3442319.847975997\n",
            "Mean Squared Error : 11849565935769.49\n",
            "Mean Absolute Error : 1311100.301658822\n",
            "Mean Absolute Percentage Error : 0.6657621697486367\n",
            "R Squared: -0.4497353477389967\n",
            "\n",
            "VotingRegressor\n",
            "Accuracy : 7.01129690651131\n",
            "Root Mean Squared Error : 2756905.959830248\n",
            "Mean Squared Error : 7600530471347.54\n",
            "Mean Absolute Error : 1237509.0526717843\n",
            "Mean Absolute Percentage Error : 0.6648659933220762\n",
            "R Squared: 0.0701129690651131\n"
          ]
        }
      ],
      "source": [
        "print(\"Accuracy on validation dataset\")\n",
        "# print(\"Labels : {}\".format(list(validation_y[:5])))\n",
        "for reg in (lr_reg, dt_reg, rf_reg,svr_reg,etr_reg, voting_reg):\n",
        "    reg.fit(train_X, train_y)\n",
        "    y_pred = reg.predict(validation_X)\n",
        "    print(\"\\n\" + reg.__class__.__name__)\n",
        "    print(\"Accuracy : {}\".format(reg.score(validation_X,validation_y)* 100))\n",
        "    print(\"Root Mean Squared Error : {}\".format(mean_squared_error(validation_y,y_pred, squared=False)))\n",
        "    print(\"Mean Squared Error : {}\".format(mean_squared_error(validation_y,y_pred, squared=True)))\n",
        "    print(\"Mean Absolute Error : {}\".format(mean_absolute_error(validation_y,y_pred)))\n",
        "    print(\"Mean Absolute Percentage Error : {}\".format(mean_absolute_percentage_error(validation_y,y_pred)))\n",
        "    print(\"R Squared: {}\".format(r2_score(validation_y,y_pred)))"
      ]
    },
    {
      "cell_type": "markdown",
      "metadata": {
        "id": "kVfE3LoCOz6u"
      },
      "source": [
        "## Analysis of predictors on Train data"
      ]
    },
    {
      "cell_type": "code",
      "execution_count": null,
      "metadata": {
        "colab": {
          "base_uri": "https://localhost:8080/"
        },
        "id": "b9yhnX6uQlM_",
        "outputId": "1c10112e-8a4d-499f-def7-b82f25dfa1d5"
      },
      "outputs": [
        {
          "output_type": "stream",
          "name": "stdout",
          "text": [
            "Accuracy on train dataset\n",
            "\n",
            "LinearRegression\n",
            "Accuracy : 42.17110616030823\n",
            "Root Mean Squared Error : 6030211.641852509\n",
            "Mean Squared Error : 36363452445533.53\n",
            "Mean Absolute Error : 1514734.0908434526\n",
            "Mean Absolute Percentage Error : 2.5908503689257945\n",
            "R Squared: 0.42171106160308225\n",
            "\n",
            "DecisionTreeRegressor\n",
            "Accuracy : 49.60673462710038\n",
            "Root Mean Squared Error : 5629195.898201181\n",
            "Mean Squared Error : 31687846460324.996\n",
            "Mean Absolute Error : 1003194.3422759767\n",
            "Mean Absolute Percentage Error : 0.6082899291657716\n",
            "R Squared: 0.4960673462710038\n",
            "\n",
            "RandomForestRegressor\n",
            "Accuracy : 44.431076383168644\n",
            "Root Mean Squared Error : 5911206.1376442285\n",
            "Mean Squared Error : 34942358001722.797\n",
            "Mean Absolute Error : 1189386.9397411176\n",
            "Mean Absolute Percentage Error : 1.0919476076364283\n",
            "R Squared: 0.44431076383168644\n",
            "\n",
            "SVR\n",
            "Accuracy : -2.1311289692128144\n",
            "Root Mean Squared Error : 8013812.529462093\n",
            "Mean Squared Error : 64221191257363.62\n",
            "Mean Absolute Error : 2048945.3988580361\n",
            "Mean Absolute Percentage Error : 1.6881311369318843\n",
            "R Squared: -0.021311289692128144\n",
            "\n",
            "ExtraTreesRegressor\n",
            "Accuracy : 49.60673462710036\n",
            "Root Mean Squared Error : 5629195.898201182\n",
            "Mean Squared Error : 31687846460325.004\n",
            "Mean Absolute Error : 1003194.3422759769\n",
            "Mean Absolute Percentage Error : 0.6082899291657718\n",
            "R Squared: 0.4960673462710036\n",
            "\n",
            "VotingRegressor\n",
            "Accuracy : 45.33808995681109\n",
            "Root Mean Squared Error : 5862765.368480418\n",
            "Mean Squared Error : 34372017765853.33\n",
            "Mean Absolute Error : 1227207.467045475\n",
            "Mean Absolute Percentage Error : 1.2866043374491818\n",
            "R Squared: 0.4533808995681109\n"
          ]
        }
      ],
      "source": [
        "print(\"Accuracy on train dataset\")\n",
        "# print(\"Labels : {}\".format(list(train_y[:5])))\n",
        "for reg in (lr_reg, dt_reg, rf_reg,svr_reg,etr_reg, voting_reg):\n",
        "    reg.fit(train_X, train_y)\n",
        "    y_pred = reg.predict(train_X)\n",
        "    print(\"\\n\" + reg.__class__.__name__)\n",
        "    print(\"Accuracy : {}\".format(reg.score(train_X,train_y)* 100))\n",
        "    print(\"Root Mean Squared Error : {}\".format(mean_squared_error(train_y,y_pred, squared=False)))\n",
        "    print(\"Mean Squared Error : {}\".format(mean_squared_error(train_y,y_pred, squared=True)))\n",
        "    print(\"Mean Absolute Error : {}\".format(mean_absolute_error(train_y,y_pred)))\n",
        "    print(\"Mean Absolute Percentage Error : {}\".format(mean_absolute_percentage_error(train_y,y_pred)))\n",
        "    print(\"R Squared: {}\".format(r2_score(train_y,y_pred)))"
      ]
    },
    {
      "cell_type": "markdown",
      "metadata": {
        "id": "eMZvL4o-VqWW"
      },
      "source": [
        "## Saving linear regression model\n",
        "\n",
        "\n"
      ]
    },
    {
      "cell_type": "code",
      "execution_count": null,
      "metadata": {
        "id": "h7MOcCOtVtkD"
      },
      "outputs": [],
      "source": [
        "model = lr_reg.fit(train_X, train_y)\n",
        "pickle.dump(model, open(\"model.pkl\",\"wb\"))\n"
      ]
    },
    {
      "cell_type": "code",
      "execution_count": null,
      "metadata": {
        "id": "GSHfiaMwdZal",
        "colab": {
          "base_uri": "https://localhost:8080/"
        },
        "outputId": "a1b382f2-c15a-4f98-98d2-144b23a02616"
      },
      "outputs": [
        {
          "output_type": "stream",
          "name": "stdout",
          "text": [
            "6087896.664082885\n"
          ]
        }
      ],
      "source": [
        "loaded_model = pickle.load(open(\"model.pkl\",\"rb\"))\n",
        "loaded_encoder = pickle.load(open(\"encoder.pickle\",\"rb\"))\n",
        "\n",
        "\n",
        "def ValuePredictor(location,to_predict_list):\n",
        "    userData={\"Location\" :[location]}\n",
        "    data = pd.DataFrame(userData)\n",
        "    enc=loaded_encoder.transform(data[[\"Location\"]]).toarray()\n",
        "    new_array = np.concatenate([to_predict_list,enc[0]]).reshape(1,230)\n",
        "    result = loaded_model.predict(new_array)\n",
        "    return abs(result[0])\n",
        "\n",
        "predict = ValuePredictor(\"Ashaiman\",[5.704139, -0.168796, 2.0, 4.0, 6.0])\n",
        "print(predict)"
      ]
    },
    {
      "cell_type": "code",
      "source": [
        ""
      ],
      "metadata": {
        "id": "mTxiefJTAD-j"
      },
      "execution_count": null,
      "outputs": []
    }
  ],
  "metadata": {
    "colab": {
      "collapsed_sections": [],
      "name": "Accra_house_pricing_model.ipynb",
      "provenance": [],
      "authorship_tag": "ABX9TyMF7Blj11tgG2yJZtwMxnXw",
      "include_colab_link": true
    },
    "kernelspec": {
      "display_name": "Python 3",
      "name": "python3"
    },
    "language_info": {
      "name": "python"
    }
  },
  "nbformat": 4,
  "nbformat_minor": 0
}